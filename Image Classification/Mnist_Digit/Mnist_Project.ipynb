{
  "cells": [
    {
      "cell_type": "markdown",
      "metadata": {
        "id": "view-in-github",
        "colab_type": "text"
      },
      "source": [
        "<a href=\"https://colab.research.google.com/github/huynhspm/ML-DL/blob/main/Number%20Classification/Mnist_Project.ipynb\" target=\"_parent\"><img src=\"https://colab.research.google.com/assets/colab-badge.svg\" alt=\"Open In Colab\"/></a>"
      ]
    },
    {
      "cell_type": "markdown",
      "source": [
        "# **Number Classification Project**"
      ],
      "metadata": {
        "id": "gc6PAL9qPlCu"
      },
      "id": "gc6PAL9qPlCu"
    },
    {
      "cell_type": "code",
      "execution_count": 4,
      "metadata": {
        "id": "c665e1d9"
      },
      "outputs": [],
      "source": [
        "# 1. Thêm các thư viện cần thiết\n",
        "import numpy as np\n",
        "import random\n",
        "import matplotlib.pyplot as plt\n",
        "import tensorflow as tf\n",
        "\n",
        "from sklearn.linear_model import LogisticRegression\n",
        "from sklearn import neighbors\n",
        "from sklearn.svm import SVC\n",
        "from sklearn.metrics import accuracy_score\n",
        "\n",
        "from tensorflow import keras\n",
        "from keras.datasets import mnist\n",
        "from keras.models import Sequential\n",
        "from keras.layers import Dense, Activation, Flatten, Dropout\n",
        "from keras.layers import Conv2D, MaxPooling2D\n",
        "from keras.preprocessing.image import ImageDataGenerator\n",
        "from keras.callbacks import EarlyStopping, ReduceLROnPlateau, ModelCheckpoint\n",
        "\n",
        "import time"
      ],
      "id": "c665e1d9"
    },
    {
      "cell_type": "code",
      "execution_count": 2,
      "metadata": {
        "id": "0660d0ad",
        "colab": {
          "base_uri": "https://localhost:8080/"
        },
        "outputId": "bfb05eaa-cb2c-4345-bfc3-0d231a66d5b7"
      },
      "outputs": [
        {
          "output_type": "stream",
          "name": "stdout",
          "text": [
            "Downloading data from https://storage.googleapis.com/tensorflow/tf-keras-datasets/mnist.npz\n",
            "11493376/11490434 [==============================] - 0s 0us/step\n",
            "11501568/11490434 [==============================] - 0s 0us/step\n",
            "(60000, 28, 28) (10000, 28, 28)\n",
            "(60000,) (10000,)\n"
          ]
        }
      ],
      "source": [
        "# 2. Load dữ liệu MNIST\n",
        "(X_train, y_train), (X_test, y_test) = mnist.load_data()\n",
        "\n",
        "img_width = 28\n",
        "img_height = 28\n",
        "img_channel = 1\n",
        "\n",
        "label = ['0', '1', '2', '3', '4', '5', '6', '7', '8', '9']\n",
        "\n",
        "print(X_train.shape, X_test.shape)\n",
        "print(y_train.shape, y_test.shape)"
      ],
      "id": "0660d0ad"
    },
    {
      "cell_type": "code",
      "source": [
        "# 3. show image\n",
        "def get_ten_random_images():\n",
        "  d = {}\n",
        "  while len(d.keys()) < 10:\n",
        "      idx = random.randint(0, len(y_train)-1)\n",
        "      if y_train[idx] not in d.keys():\n",
        "          d[y_train[idx]] = idx\n",
        "  return d\n",
        "\n",
        "d = get_ten_random_images()\n",
        "rows = 2\n",
        "cols = 5\n",
        "fig, axes = plt.subplots(rows, cols, figsize = (15,6))\n",
        "axes = axes.ravel()\n",
        "for i in range(1, rows*cols+1):\n",
        "    axes[i-1].imshow(X_train[d[i-1]], cmap = 'gray')\n",
        "    axes[i-1].axis('off')\n",
        "    axes[i-1].set_title(label[i-1], fontsize=15)\n",
        "fig.suptitle('10 Random Images from Dataset of each class', fontsize = 10)\n",
        "plt.show()"
      ],
      "metadata": {
        "id": "tKtxl-hWlYDV",
        "outputId": "f5862663-ec60-4d76-a953-b6d4817910d0",
        "colab": {
          "base_uri": "https://localhost:8080/",
          "height": 398
        }
      },
      "id": "tKtxl-hWlYDV",
      "execution_count": 3,
      "outputs": [
        {
          "output_type": "display_data",
          "data": {
            "text/plain": [
              "<Figure size 1080x432 with 10 Axes>"
            ],
            "image/png": "[encoded data removed]"
          },
          "metadata": {
            "needs_background": "light"
          }
        }
      ]
    },
    {
      "cell_type": "markdown",
      "source": [
        "# **Classify with k_nearest_neighbors**"
      ],
      "metadata": {
        "id": "BCqPQQzJPhkU"
      },
      "id": "BCqPQQzJPhkU"
    },
    {
      "cell_type": "code",
      "source": [
        "# 1. prepare data\n",
        "X_train = X_train.reshape(X_train.shape[0], 784)\n",
        "X_test = X_test.reshape(X_test.shape[0], 784)\n",
        "\n",
        "print(X_train.shape)"
      ],
      "metadata": {
        "colab": {
          "base_uri": "https://localhost:8080/"
        },
        "id": "KlrWAbwwAQHc",
        "outputId": "94e79bd7-823e-446a-cc96-9603be39e28d"
      },
      "id": "KlrWAbwwAQHc",
      "execution_count": null,
      "outputs": [
        {
          "output_type": "stream",
          "name": "stdout",
          "text": [
            "(60000, 784)\n"
          ]
        }
      ]
    },
    {
      "cell_type": "code",
      "execution_count": null,
      "metadata": {
        "id": "eb87c054"
      },
      "outputs": [],
      "source": [
        "# 2. build model\n",
        "model_KNN = neighbors.KNeighborsClassifier(n_neighbors = 1, p = 2)"
      ],
      "id": "eb87c054"
    },
    {
      "cell_type": "code",
      "source": [
        "# 3. train model\n",
        "start_time = time.time()\n",
        "model_KNN.fit(X_train, y_train)\n",
        "end_time = time.time()\n",
        "print(\"Running time: %.2f (s)\" % (end_time - start_time))"
      ],
      "metadata": {
        "colab": {
          "base_uri": "https://localhost:8080/"
        },
        "id": "PsJT-d25Cfbx",
        "outputId": "76ec6da3-d466-4ec2-fdfb-5d1b1dc9013f"
      },
      "id": "PsJT-d25Cfbx",
      "execution_count": null,
      "outputs": [
        {
          "output_type": "stream",
          "name": "stdout",
          "text": [
            "Running time: 0.01 (s)\n"
          ]
        }
      ]
    },
    {
      "cell_type": "code",
      "source": [
        "# 4. Đánh giá model với testset\n",
        "start_time = time.time()\n",
        "KNN_pred = model_KNN.predict(X_test)\n",
        "print('KNeighborsClassifier: %d' %(100 * accuracy_score(y_test, KNN_pred)))\n",
        "end_time = time.time()\n",
        "print(\"Running time: %.2f (s)\" % (end_time - start_time))"
      ],
      "metadata": {
        "colab": {
          "base_uri": "https://localhost:8080/"
        },
        "id": "V4kPzzraCvOa",
        "outputId": "6cde6cb3-55ff-490c-f539-3b65dfb0f337"
      },
      "id": "V4kPzzraCvOa",
      "execution_count": null,
      "outputs": [
        {
          "output_type": "stream",
          "name": "stdout",
          "text": [
            "KNeighborsClassifier: 96\n",
            "Running time: 28.93 (s)\n"
          ]
        }
      ]
    },
    {
      "cell_type": "markdown",
      "source": [
        "# **Classify with support vector machine**"
      ],
      "metadata": {
        "id": "S7rJYnNTPtVd"
      },
      "id": "S7rJYnNTPtVd"
    },
    {
      "cell_type": "code",
      "source": [
        "# 1. prepare data\n",
        "X_train = X_train.reshape(X_train.shape[0], 784)\n",
        "X_test = X_test.reshape(X_test.shape[0], 784)\n",
        "\n",
        "print(X_train.shape)"
      ],
      "metadata": {
        "colab": {
          "base_uri": "https://localhost:8080/"
        },
        "id": "gI3B1DLXAm-n",
        "outputId": "f298244e-2daa-40e2-9e5b-e8119bf95f84"
      },
      "id": "gI3B1DLXAm-n",
      "execution_count": null,
      "outputs": [
        {
          "output_type": "stream",
          "name": "stdout",
          "text": [
            "(60000, 784)\n"
          ]
        }
      ]
    },
    {
      "cell_type": "code",
      "execution_count": null,
      "metadata": {
        "id": "880d20f9"
      },
      "outputs": [],
      "source": [
        "# 2. build model\n",
        "model_SVM = SVC(kernel='poly', gamma=1, coef0 = 1)"
      ],
      "id": "880d20f9"
    },
    {
      "cell_type": "code",
      "source": [
        "# 3. train model\n",
        "start_time = time.time()\n",
        "model_SVM.fit(X_train, y_train)\n",
        "end_time = time.time()\n",
        "print(\"Running time: %.2f (s)\" % (end_time - start_time))"
      ],
      "metadata": {
        "colab": {
          "base_uri": "https://localhost:8080/"
        },
        "id": "UxldrqVHEbQN",
        "outputId": "8f65d1d8-ff85-4751-f4fe-b9557e86eeb8"
      },
      "id": "UxldrqVHEbQN",
      "execution_count": null,
      "outputs": [
        {
          "output_type": "stream",
          "name": "stdout",
          "text": [
            "Running time: 162.04 (s)\n"
          ]
        }
      ]
    },
    {
      "cell_type": "code",
      "execution_count": null,
      "metadata": {
        "colab": {
          "base_uri": "https://localhost:8080/"
        },
        "id": "539bf818",
        "outputId": "350962a8-3441-4c65-8cbe-f0a2b6bc7a65"
      },
      "outputs": [
        {
          "output_type": "stream",
          "name": "stdout",
          "text": [
            "KNeighborsClassifier: 97\n",
            "Running time: 33.40 (s)\n"
          ]
        }
      ],
      "source": [
        "# 4. Đánh giá model với testset\n",
        "start_time = time.time()\n",
        "SVM_pred = model_SVM.predict(X_test)\n",
        "print('KNeighborsClassifier: %d' %(100 * accuracy_score(y_test, SVM_pred)))\n",
        "end_time = time.time()\n",
        "print(\"Running time: %.2f (s)\" % (end_time - start_time))"
      ],
      "id": "539bf818"
    },
    {
      "cell_type": "markdown",
      "source": [
        "# **Classify with neural network**"
      ],
      "metadata": {
        "id": "GFO56ivUPyxF"
      },
      "id": "GFO56ivUPyxF"
    },
    {
      "cell_type": "code",
      "source": [
        "# 1. data augmentation\n",
        "X_train = X_train.reshape(X_train.shape[0], 28, 28, 1)\n",
        "X_test = X_test.reshape(X_test.shape[0], 28, 28, 1)\n",
        "\n",
        "aug_train = ImageDataGenerator(rescale=1./255, validation_split=0.2, rotation_range=30, width_shift_range=0.1, \n",
        "                               height_shift_range=0.1, shear_range=0.2, zoom_range=0.2, fill_mode='nearest')\n",
        "aug_test= ImageDataGenerator(rescale=1./255)\n",
        "\n",
        "train_generator = aug_train.flow(X_train, y_train, batch_size=32, subset='training')\n",
        "val_generator = aug_train.flow(X_train, y_train, batch_size=32, subset='validation')\n",
        "test_generator = aug_test.flow(X_test, y_test, batch_size=32)"
      ],
      "metadata": {
        "id": "ibXHppcZBCHM"
      },
      "id": "ibXHppcZBCHM",
      "execution_count": null,
      "outputs": []
    },
    {
      "cell_type": "code",
      "source": [
        "# 2. build model\n",
        "model_NN = Sequential()\n",
        "model_NN.add(Flatten(input_shape=(img_width, img_height, img_channel)))\n",
        "model_NN.add(Dense(128, activation=\"relu\"))\n",
        "model_NN.add(Dense(10, activation=\"softmax\"))\n",
        "\n",
        "model_NN.compile(loss='sparse_categorical_crossentropy', optimizer='adam', metrics=['accuracy'])\n",
        "model_NN.summary()"
      ],
      "metadata": {
        "colab": {
          "base_uri": "https://localhost:8080/"
        },
        "id": "XR1C6T1ZFAIo",
        "outputId": "64aa9756-93e1-4949-8911-7003e6e955ee"
      },
      "id": "XR1C6T1ZFAIo",
      "execution_count": null,
      "outputs": [
        {
          "output_type": "stream",
          "name": "stdout",
          "text": [
            "Model: \"sequential\"\n",
            "_________________________________________________________________\n",
            " Layer (type)                Output Shape              Param #   \n",
            "=================================================================\n",
            " flatten (Flatten)           (None, 784)               0         \n",
            "                                                                 \n",
            " dense (Dense)               (None, 128)               100480    \n",
            "                                                                 \n",
            " dense_1 (Dense)             (None, 10)                1290      \n",
            "                                                                 \n",
            "=================================================================\n",
            "Total params: 101,770\n",
            "Trainable params: 101,770\n",
            "Non-trainable params: 0\n",
            "_________________________________________________________________\n"
          ]
        }
      ]
    },
    {
      "cell_type": "code",
      "source": [
        "# 3. train model\n",
        "start_time = time.time()\n",
        "\n",
        "numOfEpoch = 20\n",
        "earlystop = EarlyStopping(patience = 10)\n",
        "learning_rate_reduction = ReduceLROnPlateau(monitor = 'val_accuracy', patience = 2,\n",
        "                                            verbose = 1, factor = 0.5, min_lr = 0.00001)\n",
        "\n",
        "H_NN = model_NN.fit(train_generator, epochs = numOfEpoch, validation_data = val_generator, \n",
        "               verbose=1, callbacks=[earlystop,learning_rate_reduction])\n",
        "\n",
        "end_time = time.time()\n",
        "print(\"Running time: %.2f (s)\" % (end_time - start_time))"
      ],
      "metadata": {
        "colab": {
          "base_uri": "https://localhost:8080/"
        },
        "id": "_JaoxTXqFB7i",
        "outputId": "4236bbb5-fcde-4856-e6dc-2dceea55ec33"
      },
      "id": "_JaoxTXqFB7i",
      "execution_count": null,
      "outputs": [
        {
          "output_type": "stream",
          "name": "stdout",
          "text": [
            "Epoch 1/20\n",
            "1500/1500 [==============================] - 20s 13ms/step - loss: 0.3465 - accuracy: 0.8953 - val_loss: 0.3090 - val_accuracy: 0.9105 - lr: 0.0010\n",
            "Epoch 2/20\n",
            "1500/1500 [==============================] - 20s 14ms/step - loss: 0.3068 - accuracy: 0.9101 - val_loss: 0.2868 - val_accuracy: 0.9143 - lr: 0.0010\n",
            "Epoch 3/20\n",
            "1500/1500 [==============================] - 23s 15ms/step - loss: 0.2779 - accuracy: 0.9185 - val_loss: 0.2680 - val_accuracy: 0.9219 - lr: 0.0010\n",
            "Epoch 4/20\n",
            "1500/1500 [==============================] - 21s 14ms/step - loss: 0.2646 - accuracy: 0.9207 - val_loss: 0.2779 - val_accuracy: 0.9187 - lr: 0.0010\n",
            "Epoch 5/20\n",
            "1500/1500 [==============================] - 20s 13ms/step - loss: 0.2506 - accuracy: 0.9251 - val_loss: 0.2426 - val_accuracy: 0.9287 - lr: 0.0010\n",
            "Epoch 6/20\n",
            "1500/1500 [==============================] - 20s 14ms/step - loss: 0.2433 - accuracy: 0.9272 - val_loss: 0.2302 - val_accuracy: 0.9309 - lr: 0.0010\n",
            "Epoch 7/20\n",
            "1500/1500 [==============================] - 21s 14ms/step - loss: 0.2315 - accuracy: 0.9306 - val_loss: 0.2380 - val_accuracy: 0.9282 - lr: 0.0010\n",
            "Epoch 8/20\n",
            "1500/1500 [==============================] - 21s 14ms/step - loss: 0.2273 - accuracy: 0.9330 - val_loss: 0.2240 - val_accuracy: 0.9321 - lr: 0.0010\n",
            "Epoch 9/20\n",
            "1500/1500 [==============================] - 20s 14ms/step - loss: 0.2148 - accuracy: 0.9348 - val_loss: 0.2120 - val_accuracy: 0.9361 - lr: 0.0010\n",
            "Epoch 10/20\n",
            "1500/1500 [==============================] - 21s 14ms/step - loss: 0.2181 - accuracy: 0.9361 - val_loss: 0.2009 - val_accuracy: 0.9400 - lr: 0.0010\n",
            "Epoch 11/20\n",
            "1500/1500 [==============================] - 20s 14ms/step - loss: 0.2046 - accuracy: 0.9399 - val_loss: 0.2119 - val_accuracy: 0.9383 - lr: 0.0010\n",
            "Epoch 12/20\n",
            "1496/1500 [============================>.] - ETA: 0s - loss: 0.2064 - accuracy: 0.9384\n",
            "Epoch 12: ReduceLROnPlateau reducing learning rate to 0.0005000000237487257.\n",
            "1500/1500 [==============================] - 21s 14ms/step - loss: 0.2066 - accuracy: 0.9384 - val_loss: 0.1993 - val_accuracy: 0.9381 - lr: 0.0010\n",
            "Epoch 13/20\n",
            "1500/1500 [==============================] - 20s 14ms/step - loss: 0.1828 - accuracy: 0.9462 - val_loss: 0.1771 - val_accuracy: 0.9431 - lr: 5.0000e-04\n",
            "Epoch 14/20\n",
            "1500/1500 [==============================] - 20s 14ms/step - loss: 0.1775 - accuracy: 0.9470 - val_loss: 0.1836 - val_accuracy: 0.9454 - lr: 5.0000e-04\n",
            "Epoch 15/20\n",
            "1500/1500 [==============================] - 20s 13ms/step - loss: 0.1766 - accuracy: 0.9470 - val_loss: 0.1779 - val_accuracy: 0.9501 - lr: 5.0000e-04\n",
            "Epoch 16/20\n",
            "1500/1500 [==============================] - 20s 14ms/step - loss: 0.1740 - accuracy: 0.9487 - val_loss: 0.1840 - val_accuracy: 0.9463 - lr: 5.0000e-04\n",
            "Epoch 17/20\n",
            "1498/1500 [============================>.] - ETA: 0s - loss: 0.1693 - accuracy: 0.9492\n",
            "Epoch 17: ReduceLROnPlateau reducing learning rate to 0.0002500000118743628.\n",
            "1500/1500 [==============================] - 22s 14ms/step - loss: 0.1694 - accuracy: 0.9492 - val_loss: 0.1774 - val_accuracy: 0.9477 - lr: 5.0000e-04\n",
            "Epoch 18/20\n",
            "1500/1500 [==============================] - 20s 14ms/step - loss: 0.1635 - accuracy: 0.9508 - val_loss: 0.1694 - val_accuracy: 0.9498 - lr: 2.5000e-04\n",
            "Epoch 19/20\n",
            "1500/1500 [==============================] - 20s 13ms/step - loss: 0.1568 - accuracy: 0.9526 - val_loss: 0.1613 - val_accuracy: 0.9503 - lr: 2.5000e-04\n",
            "Epoch 20/20\n",
            "1500/1500 [==============================] - 20s 14ms/step - loss: 0.1617 - accuracy: 0.9520 - val_loss: 0.1693 - val_accuracy: 0.9503 - lr: 2.5000e-04\n",
            "Running time: 413.32 (s)\n"
          ]
        }
      ]
    },
    {
      "cell_type": "code",
      "source": [
        "# 4. Vẽ đồ thị loss của traning set và validation set\n",
        "plt.plot(np.arange(0, len(H_NN.epoch)), H_NN.history['loss'], label='training loss')\n",
        "plt.plot(np.arange(0, len(H_NN.epoch)), H_NN.history['val_loss'], label='validation loss')\n",
        "plt.title('Loss')\n",
        "plt.xlabel('Epoch')\n",
        "plt.ylabel('Loss')\n",
        "plt.legend()"
      ],
      "metadata": {
        "colab": {
          "base_uri": "https://localhost:8080/",
          "height": 312
        },
        "id": "_DWkzyx3RjXw",
        "outputId": "6a11a193-2c36-4122-ade9-d2af8517b6d3"
      },
      "id": "_DWkzyx3RjXw",
      "execution_count": null,
      "outputs": [
        {
          "output_type": "execute_result",
          "data": {
            "text/plain": [
              "<matplotlib.legend.Legend at 0x7fd3a81c0590>"
            ]
          },
          "metadata": {},
          "execution_count": 12
        },
        {
          "output_type": "display_data",
          "data": {
            "text/plain": [
              "<Figure size 432x288 with 1 Axes>"
            ],
            "image/png": "[encoded data removed]"
          },
          "metadata": {
            "needs_background": "light"
          }
        }
      ]
    },
    {
      "cell_type": "code",
      "source": [
        "# 5. Vẽ đồ thị accuracy của traning set và validation set\n",
        "plt.plot(np.arange(0, len(H_NN.epoch)), H_NN.history['accuracy'], label='accuracy')\n",
        "plt.plot(np.arange(0, len(H_NN.epoch)), H_NN.history['val_accuracy'], label='validation accuracy')\n",
        "plt.title('Accuracy')\n",
        "plt.xlabel('Epoch')\n",
        "plt.ylabel('Accuracy')\n",
        "plt.legend()"
      ],
      "metadata": {
        "colab": {
          "base_uri": "https://localhost:8080/",
          "height": 312
        },
        "id": "du7JBSOJbFqw",
        "outputId": "54a1cd9e-6ff6-4a99-f705-7b125a523256"
      },
      "id": "du7JBSOJbFqw",
      "execution_count": null,
      "outputs": [
        {
          "output_type": "execute_result",
          "data": {
            "text/plain": [
              "<matplotlib.legend.Legend at 0x7fd3a80c2510>"
            ]
          },
          "metadata": {},
          "execution_count": 13
        },
        {
          "output_type": "display_data",
          "data": {
            "text/plain": [
              "<Figure size 432x288 with 1 Axes>"
            ],
            "image/png": "[encoded data removed]"
          },
          "metadata": {
            "needs_background": "light"
          }
        }
      ]
    },
    {
      "cell_type": "code",
      "source": [
        "# 6. Đánh giá model với testset\n",
        "start_time = time.time()\n",
        "print('[loss, accuracy]', model_NN.evaluate(test_generator, verbose = 0))\n",
        "end_time = time.time()\n",
        "print(\"Running time: %.2f (s)\" % (end_time - start_time))"
      ],
      "metadata": {
        "colab": {
          "base_uri": "https://localhost:8080/"
        },
        "id": "5dx-wfAMFDkz",
        "outputId": "e2af1f55-a88a-43a1-d229-2c197a1716b8"
      },
      "id": "5dx-wfAMFDkz",
      "execution_count": null,
      "outputs": [
        {
          "output_type": "stream",
          "name": "stdout",
          "text": [
            "[loss, accuracy] [0.0645429939031601, 0.980400025844574]\n",
            "Running time: 0.75 (s)\n"
          ]
        }
      ]
    },
    {
      "cell_type": "markdown",
      "source": [
        "# **Classify with convolutional neural network**"
      ],
      "metadata": {
        "id": "FQkaC9PvP-Qq"
      },
      "id": "FQkaC9PvP-Qq"
    },
    {
      "cell_type": "code",
      "source": [
        "# 1. data augmentation\n",
        "X_train = X_train.reshape(X_train.shape[0], 28, 28, 1)\n",
        "X_test = X_test.reshape(X_test.shape[0], 28, 28, 1)\n",
        "\n",
        "aug_train = ImageDataGenerator(rescale=1./255, validation_split=0.2, rotation_range=30, width_shift_range=0.1, \n",
        "                               height_shift_range=0.1, shear_range=0.2, zoom_range=0.2, fill_mode='nearest')\n",
        "aug_test= ImageDataGenerator(rescale=1./255)\n",
        "\n",
        "train_generator = aug_train.flow(X_train, y_train, batch_size=32, subset='training')\n",
        "val_generator = aug_train.flow(X_train, y_train, batch_size=32, subset='validation')\n",
        "test_generator = aug_test.flow(X_test, y_test, batch_size=32)"
      ],
      "metadata": {
        "id": "o7p0SwQHBJTe"
      },
      "id": "o7p0SwQHBJTe",
      "execution_count": 20,
      "outputs": []
    },
    {
      "cell_type": "code",
      "source": [
        "# 2. build model\n",
        "model_CNN = Sequential()\n",
        " \n",
        "model_CNN.add(Conv2D(32, (3, 3), activation='relu', input_shape=(img_width, img_height, img_channel)))\n",
        "model_CNN.add(Conv2D(32, (3, 3), activation='relu'))\n",
        "model_CNN.add(MaxPooling2D(pool_size=(2,2)))\n",
        "\n",
        "model_CNN.add(Flatten())\n",
        "\n",
        "model_CNN.add(Dense(128, activation='relu'))\n",
        "model_CNN.add(Dense(10, activation='softmax'))\n",
        "\n",
        "model_CNN.compile(loss='sparse_categorical_crossentropy', optimizer='adam', metrics=['accuracy'])\n",
        "\n",
        "model_CNN.summary()"
      ],
      "metadata": {
        "colab": {
          "base_uri": "https://localhost:8080/"
        },
        "id": "xW10pJt5BK1g",
        "outputId": "2511664d-ba60-45a1-8db4-b0429222e6a0"
      },
      "id": "xW10pJt5BK1g",
      "execution_count": 24,
      "outputs": [
        {
          "output_type": "stream",
          "name": "stdout",
          "text": [
            "Model: \"sequential_3\"\n",
            "_________________________________________________________________\n",
            " Layer (type)                Output Shape              Param #   \n",
            "=================================================================\n",
            " conv2d_6 (Conv2D)           (None, 26, 26, 32)        320       \n",
            "                                                                 \n",
            " conv2d_7 (Conv2D)           (None, 24, 24, 32)        9248      \n",
            "                                                                 \n",
            " max_pooling2d_3 (MaxPooling  (None, 12, 12, 32)       0         \n",
            " 2D)                                                             \n",
            "                                                                 \n",
            " flatten_3 (Flatten)         (None, 4608)              0         \n",
            "                                                                 \n",
            " dense_6 (Dense)             (None, 128)               589952    \n",
            "                                                                 \n",
            " dense_7 (Dense)             (None, 10)                1290      \n",
            "                                                                 \n",
            "=================================================================\n",
            "Total params: 600,810\n",
            "Trainable params: 600,810\n",
            "Non-trainable params: 0\n",
            "_________________________________________________________________\n"
          ]
        }
      ]
    },
    {
      "cell_type": "code",
      "source": [
        "# 3. train model\n",
        "start_time = time.time()\n",
        "\n",
        "numOfEpoch = 30\n",
        "earlystop = EarlyStopping(patience = 10)\n",
        "learning_rate_reduction = ReduceLROnPlateau(monitor = 'val_accuracy', patience = 2,\n",
        "                                            verbose = 1, factor = 0.5, min_lr = 0.00001)\n",
        "model_checkpoint = ModelCheckpoint(filepath='../model.h5', \n",
        "                                   monitor='val_acc', mode='max', save_best_only=True)\n",
        "\n",
        "H_CNN = model_CNN.fit(train_generator, epochs = numOfEpoch, validation_data = val_generator, \n",
        "               verbose=1, callbacks=[earlystop,learning_rate_reduction, model_checkpoint])\n",
        "\n",
        "end_time = time.time()\n",
        "print(\"Running time: %.2f (s)\" % (end_time - start_time))"
      ],
      "metadata": {
        "colab": {
          "base_uri": "https://localhost:8080/"
        },
        "id": "pMHRDlIdGj8k",
        "outputId": "fe76ad4c-1181-4116-c1cd-c81a2ecb3c46"
      },
      "id": "pMHRDlIdGj8k",
      "execution_count": 25,
      "outputs": [
        {
          "output_type": "stream",
          "name": "stdout",
          "text": [
            "Epoch 1/30\n",
            "1500/1500 [==============================] - ETA: 0s - loss: 0.3673 - accuracy: 0.8823WARNING:tensorflow:Can save best model only with val_acc available, skipping.\n",
            "1500/1500 [==============================] - 23s 15ms/step - loss: 0.3673 - accuracy: 0.8823 - val_loss: 0.1735 - val_accuracy: 0.9493 - lr: 0.0010\n",
            "Epoch 2/30\n",
            "1498/1500 [============================>.] - ETA: 0s - loss: 0.1393 - accuracy: 0.9571WARNING:tensorflow:Can save best model only with val_acc available, skipping.\n",
            "1500/1500 [==============================] - 22s 15ms/step - loss: 0.1393 - accuracy: 0.9571 - val_loss: 0.1469 - val_accuracy: 0.9548 - lr: 0.0010\n",
            "Epoch 3/30\n",
            "1496/1500 [============================>.] - ETA: 0s - loss: 0.1090 - accuracy: 0.9667WARNING:tensorflow:Can save best model only with val_acc available, skipping.\n",
            "1500/1500 [==============================] - 22s 15ms/step - loss: 0.1090 - accuracy: 0.9668 - val_loss: 0.1116 - val_accuracy: 0.9668 - lr: 0.0010\n",
            "Epoch 4/30\n",
            "1498/1500 [============================>.] - ETA: 0s - loss: 0.0915 - accuracy: 0.9720WARNING:tensorflow:Can save best model only with val_acc available, skipping.\n",
            "1500/1500 [==============================] - 22s 15ms/step - loss: 0.0914 - accuracy: 0.9720 - val_loss: 0.0974 - val_accuracy: 0.9705 - lr: 0.0010\n",
            "Epoch 5/30\n",
            "1497/1500 [============================>.] - ETA: 0s - loss: 0.0830 - accuracy: 0.9740WARNING:tensorflow:Can save best model only with val_acc available, skipping.\n",
            "1500/1500 [==============================] - 22s 15ms/step - loss: 0.0829 - accuracy: 0.9741 - val_loss: 0.0933 - val_accuracy: 0.9701 - lr: 0.0010\n",
            "Epoch 6/30\n",
            "1499/1500 [============================>.] - ETA: 0s - loss: 0.0747 - accuracy: 0.9772WARNING:tensorflow:Can save best model only with val_acc available, skipping.\n",
            "1500/1500 [==============================] - 22s 15ms/step - loss: 0.0746 - accuracy: 0.9772 - val_loss: 0.0849 - val_accuracy: 0.9766 - lr: 0.0010\n",
            "Epoch 7/30\n",
            "1497/1500 [============================>.] - ETA: 0s - loss: 0.0669 - accuracy: 0.9787WARNING:tensorflow:Can save best model only with val_acc available, skipping.\n",
            "1500/1500 [==============================] - 22s 15ms/step - loss: 0.0670 - accuracy: 0.9787 - val_loss: 0.0764 - val_accuracy: 0.9774 - lr: 0.0010\n",
            "Epoch 8/30\n",
            "1500/1500 [==============================] - ETA: 0s - loss: 0.0658 - accuracy: 0.9795WARNING:tensorflow:Can save best model only with val_acc available, skipping.\n",
            "1500/1500 [==============================] - 22s 15ms/step - loss: 0.0658 - accuracy: 0.9795 - val_loss: 0.0730 - val_accuracy: 0.9784 - lr: 0.0010\n",
            "Epoch 9/30\n",
            "1499/1500 [============================>.] - ETA: 0s - loss: 0.0598 - accuracy: 0.9809WARNING:tensorflow:Can save best model only with val_acc available, skipping.\n",
            "1500/1500 [==============================] - 22s 15ms/step - loss: 0.0599 - accuracy: 0.9808 - val_loss: 0.0706 - val_accuracy: 0.9799 - lr: 0.0010\n",
            "Epoch 10/30\n",
            "1498/1500 [============================>.] - ETA: 0s - loss: 0.0585 - accuracy: 0.9822WARNING:tensorflow:Can save best model only with val_acc available, skipping.\n",
            "1500/1500 [==============================] - 22s 15ms/step - loss: 0.0585 - accuracy: 0.9822 - val_loss: 0.0657 - val_accuracy: 0.9797 - lr: 0.0010\n",
            "Epoch 11/30\n",
            "1499/1500 [============================>.] - ETA: 0s - loss: 0.0542 - accuracy: 0.9829WARNING:tensorflow:Can save best model only with val_acc available, skipping.\n",
            "1500/1500 [==============================] - 22s 15ms/step - loss: 0.0542 - accuracy: 0.9829 - val_loss: 0.0614 - val_accuracy: 0.9808 - lr: 0.0010\n",
            "Epoch 12/30\n",
            "1497/1500 [============================>.] - ETA: 0s - loss: 0.0551 - accuracy: 0.9833WARNING:tensorflow:Can save best model only with val_acc available, skipping.\n",
            "1500/1500 [==============================] - 22s 15ms/step - loss: 0.0550 - accuracy: 0.9833 - val_loss: 0.0617 - val_accuracy: 0.9823 - lr: 0.0010\n",
            "Epoch 13/30\n",
            "1499/1500 [============================>.] - ETA: 0s - loss: 0.0520 - accuracy: 0.9841WARNING:tensorflow:Can save best model only with val_acc available, skipping.\n",
            "1500/1500 [==============================] - 22s 15ms/step - loss: 0.0520 - accuracy: 0.9841 - val_loss: 0.0590 - val_accuracy: 0.9833 - lr: 0.0010\n",
            "Epoch 14/30\n",
            "1496/1500 [============================>.] - ETA: 0s - loss: 0.0492 - accuracy: 0.9845WARNING:tensorflow:Can save best model only with val_acc available, skipping.\n",
            "1500/1500 [==============================] - 22s 15ms/step - loss: 0.0492 - accuracy: 0.9845 - val_loss: 0.0558 - val_accuracy: 0.9847 - lr: 0.0010\n",
            "Epoch 15/30\n",
            "1497/1500 [============================>.] - ETA: 0s - loss: 0.0504 - accuracy: 0.9847WARNING:tensorflow:Can save best model only with val_acc available, skipping.\n",
            "1500/1500 [==============================] - 22s 15ms/step - loss: 0.0504 - accuracy: 0.9847 - val_loss: 0.0493 - val_accuracy: 0.9840 - lr: 0.0010\n",
            "Epoch 16/30\n",
            "1496/1500 [============================>.] - ETA: 0s - loss: 0.0464 - accuracy: 0.9853\n",
            "Epoch 16: ReduceLROnPlateau reducing learning rate to 0.0005000000237487257.\n",
            "WARNING:tensorflow:Can save best model only with val_acc available, skipping.\n",
            "1500/1500 [==============================] - 21s 14ms/step - loss: 0.0465 - accuracy: 0.9853 - val_loss: 0.0557 - val_accuracy: 0.9836 - lr: 0.0010\n",
            "Epoch 17/30\n",
            "1497/1500 [============================>.] - ETA: 0s - loss: 0.0375 - accuracy: 0.9885WARNING:tensorflow:Can save best model only with val_acc available, skipping.\n",
            "1500/1500 [==============================] - 22s 15ms/step - loss: 0.0375 - accuracy: 0.9885 - val_loss: 0.0465 - val_accuracy: 0.9852 - lr: 5.0000e-04\n",
            "Epoch 18/30\n",
            "1497/1500 [============================>.] - ETA: 0s - loss: 0.0371 - accuracy: 0.9880WARNING:tensorflow:Can save best model only with val_acc available, skipping.\n",
            "1500/1500 [==============================] - 22s 15ms/step - loss: 0.0371 - accuracy: 0.9880 - val_loss: 0.0508 - val_accuracy: 0.9855 - lr: 5.0000e-04\n",
            "Epoch 19/30\n",
            "1499/1500 [============================>.] - ETA: 0s - loss: 0.0342 - accuracy: 0.9893WARNING:tensorflow:Can save best model only with val_acc available, skipping.\n",
            "1500/1500 [==============================] - 23s 15ms/step - loss: 0.0343 - accuracy: 0.9893 - val_loss: 0.0437 - val_accuracy: 0.9880 - lr: 5.0000e-04\n",
            "Epoch 20/30\n",
            "1498/1500 [============================>.] - ETA: 0s - loss: 0.0319 - accuracy: 0.9901WARNING:tensorflow:Can save best model only with val_acc available, skipping.\n",
            "1500/1500 [==============================] - 22s 15ms/step - loss: 0.0318 - accuracy: 0.9901 - val_loss: 0.0514 - val_accuracy: 0.9849 - lr: 5.0000e-04\n",
            "Epoch 21/30\n",
            "1498/1500 [============================>.] - ETA: 0s - loss: 0.0332 - accuracy: 0.9900\n",
            "Epoch 21: ReduceLROnPlateau reducing learning rate to 0.0002500000118743628.\n",
            "WARNING:tensorflow:Can save best model only with val_acc available, skipping.\n",
            "1500/1500 [==============================] - 22s 15ms/step - loss: 0.0332 - accuracy: 0.9900 - val_loss: 0.0422 - val_accuracy: 0.9878 - lr: 5.0000e-04\n",
            "Epoch 22/30\n",
            "1499/1500 [============================>.] - ETA: 0s - loss: 0.0311 - accuracy: 0.9901WARNING:tensorflow:Can save best model only with val_acc available, skipping.\n",
            "1500/1500 [==============================] - 22s 15ms/step - loss: 0.0311 - accuracy: 0.9901 - val_loss: 0.0414 - val_accuracy: 0.9880 - lr: 2.5000e-04\n",
            "Epoch 23/30\n",
            "1497/1500 [============================>.] - ETA: 0s - loss: 0.0286 - accuracy: 0.9913WARNING:tensorflow:Can save best model only with val_acc available, skipping.\n",
            "1500/1500 [==============================] - 22s 15ms/step - loss: 0.0285 - accuracy: 0.9913 - val_loss: 0.0370 - val_accuracy: 0.9887 - lr: 2.5000e-04\n",
            "Epoch 24/30\n",
            "1499/1500 [============================>.] - ETA: 0s - loss: 0.0283 - accuracy: 0.9911WARNING:tensorflow:Can save best model only with val_acc available, skipping.\n",
            "1500/1500 [==============================] - 22s 15ms/step - loss: 0.0282 - accuracy: 0.9911 - val_loss: 0.0448 - val_accuracy: 0.9875 - lr: 2.5000e-04\n",
            "Epoch 25/30\n",
            "1499/1500 [============================>.] - ETA: 0s - loss: 0.0257 - accuracy: 0.9916WARNING:tensorflow:Can save best model only with val_acc available, skipping.\n",
            "1500/1500 [==============================] - 22s 15ms/step - loss: 0.0257 - accuracy: 0.9916 - val_loss: 0.0371 - val_accuracy: 0.9891 - lr: 2.5000e-04\n",
            "Epoch 26/30\n",
            "1499/1500 [============================>.] - ETA: 0s - loss: 0.0257 - accuracy: 0.9919WARNING:tensorflow:Can save best model only with val_acc available, skipping.\n",
            "1500/1500 [==============================] - 22s 15ms/step - loss: 0.0257 - accuracy: 0.9919 - val_loss: 0.0378 - val_accuracy: 0.9891 - lr: 2.5000e-04\n",
            "Epoch 27/30\n",
            "1497/1500 [============================>.] - ETA: 0s - loss: 0.0270 - accuracy: 0.9921\n",
            "Epoch 27: ReduceLROnPlateau reducing learning rate to 0.0001250000059371814.\n",
            "WARNING:tensorflow:Can save best model only with val_acc available, skipping.\n",
            "1500/1500 [==============================] - 22s 15ms/step - loss: 0.0270 - accuracy: 0.9921 - val_loss: 0.0384 - val_accuracy: 0.9882 - lr: 2.5000e-04\n",
            "Epoch 28/30\n",
            "1500/1500 [==============================] - ETA: 0s - loss: 0.0224 - accuracy: 0.9924WARNING:tensorflow:Can save best model only with val_acc available, skipping.\n",
            "1500/1500 [==============================] - 22s 15ms/step - loss: 0.0224 - accuracy: 0.9924 - val_loss: 0.0384 - val_accuracy: 0.9898 - lr: 1.2500e-04\n",
            "Epoch 29/30\n",
            "1497/1500 [============================>.] - ETA: 0s - loss: 0.0225 - accuracy: 0.9925WARNING:tensorflow:Can save best model only with val_acc available, skipping.\n",
            "1500/1500 [==============================] - 22s 15ms/step - loss: 0.0225 - accuracy: 0.9925 - val_loss: 0.0344 - val_accuracy: 0.9905 - lr: 1.2500e-04\n",
            "Epoch 30/30\n",
            "1499/1500 [============================>.] - ETA: 0s - loss: 0.0233 - accuracy: 0.9930WARNING:tensorflow:Can save best model only with val_acc available, skipping.\n",
            "1500/1500 [==============================] - 22s 15ms/step - loss: 0.0233 - accuracy: 0.9930 - val_loss: 0.0387 - val_accuracy: 0.9880 - lr: 1.2500e-04\n",
            "Running time: 700.92 (s)\n"
          ]
        }
      ]
    },
    {
      "cell_type": "code",
      "source": [
        "# 4. Vẽ đồ thị loss của traning set và validation set\n",
        "plt.plot(np.arange(0, len(H_CNN.epoch)), H_CNN.history['loss'], label='training loss')\n",
        "plt.plot(np.arange(0, len(H_CNN.epoch)), H_CNN.history['val_loss'], label='validation loss')\n",
        "plt.title('Loss')\n",
        "plt.xlabel('Epoch')\n",
        "plt.ylabel('Loss')\n",
        "plt.legend()"
      ],
      "metadata": {
        "colab": {
          "base_uri": "https://localhost:8080/",
          "height": 312
        },
        "id": "lSzZb58uMRe-",
        "outputId": "446e0ea1-2cac-4c7f-9d0b-abaeae82cfc2"
      },
      "id": "lSzZb58uMRe-",
      "execution_count": 26,
      "outputs": [
        {
          "output_type": "execute_result",
          "data": {
            "text/plain": [
              "<matplotlib.legend.Legend at 0x7f790e0d3bd0>"
            ]
          },
          "metadata": {},
          "execution_count": 26
        },
        {
          "output_type": "display_data",
          "data": {
            "text/plain": [
              "<Figure size 432x288 with 1 Axes>"
            ],
            "image/png": "[encoded data removed]"
          },
          "metadata": {
            "needs_background": "light"
          }
        }
      ]
    },
    {
      "cell_type": "code",
      "source": [
        "# 5. Vẽ đồ thị accuracy của traning set và validation set\n",
        "plt.plot(np.arange(0, len(H_CNN.epoch)), H_CNN.history['accuracy'], label='accuracy')\n",
        "plt.plot(np.arange(0, len(H_CNN.epoch)), H_CNN.history['val_accuracy'], label='validation accuracy')\n",
        "plt.title('Accuracy')\n",
        "plt.xlabel('Epoch')\n",
        "plt.ylabel('Accuracy')\n",
        "plt.legend()"
      ],
      "metadata": {
        "id": "CHqwP72obZA4",
        "colab": {
          "base_uri": "https://localhost:8080/",
          "height": 312
        },
        "outputId": "8cfc019b-3cfb-4e19-ac22-46a53d4f4bad"
      },
      "id": "CHqwP72obZA4",
      "execution_count": 27,
      "outputs": [
        {
          "output_type": "execute_result",
          "data": {
            "text/plain": [
              "<matplotlib.legend.Legend at 0x7f78f65301d0>"
            ]
          },
          "metadata": {},
          "execution_count": 27
        },
        {
          "output_type": "display_data",
          "data": {
            "text/plain": [
              "<Figure size 432x288 with 1 Axes>"
            ],
            "image/png": "[encoded data removed]"
          },
          "metadata": {
            "needs_background": "light"
          }
        }
      ]
    },
    {
      "cell_type": "code",
      "source": [
        "# 6. Đánh giá model với testset\n",
        "start_time = time.time()\n",
        "print('[loss, accuracy]', model_CNN.evaluate(test_generator, verbose = 1))\n",
        "end_time = time.time()\n",
        "print(\"Running time: %.2f (s)\" % (end_time - start_time))"
      ],
      "metadata": {
        "colab": {
          "base_uri": "https://localhost:8080/"
        },
        "id": "46NCW-aUHcUN",
        "outputId": "ded5ff1c-472c-4057-ee13-a8c2f4009648"
      },
      "id": "46NCW-aUHcUN",
      "execution_count": 28,
      "outputs": [
        {
          "output_type": "stream",
          "name": "stdout",
          "text": [
            "313/313 [==============================] - 1s 3ms/step - loss: 0.0207 - accuracy: 0.9936\n",
            "[loss, accuracy] [0.020706193521618843, 0.9936000108718872]\n",
            "Running time: 1.31 (s)\n"
          ]
        }
      ]
    },
    {
      "cell_type": "code",
      "source": [
        "# 7. predict\n",
        "plt.imshow(X_test[0].reshape(img_width, img_height), cmap='gray')\n",
        "\n",
        "y_predict = model_CNN.predict(X_test[0].reshape(1,img_width, img_height, img_channel))\n",
        "print(y_predict)\n",
        "print('Giá trị dự đoán: ', np.argmax(y_predict))"
      ],
      "metadata": {
        "colab": {
          "base_uri": "https://localhost:8080/",
          "height": 300
        },
        "id": "jJY4lHRAQhrk",
        "outputId": "5052fec4-228d-47bb-d111-da61af25531c"
      },
      "id": "jJY4lHRAQhrk",
      "execution_count": 13,
      "outputs": [
        {
          "output_type": "stream",
          "name": "stdout",
          "text": [
            "[[0. 0. 0. 0. 0. 0. 0. 1. 0. 0.]]\n",
            "Giá trị dự đoán:  7\n"
          ]
        },
        {
          "output_type": "display_data",
          "data": {
            "text/plain": [
              "<Figure size 432x288 with 1 Axes>"
            ],
            "image/png": "[encoded data removed]"
          },
          "metadata": {
            "needs_background": "light"
          }
        }
      ]
    },
    {
      "cell_type": "code",
      "source": [
        "# 8. load ảnh\n",
        "from google.colab import files\n",
        "uploaded = files.upload()"
      ],
      "metadata": {
        "colab": {
          "resources": {
            "http://localhost:8080/nbextensions/google.colab/files.js": {
              "data": "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",
              "ok": true,
              "headers": [
                [
                  "content-type",
                  "application/javascript"
                ]
              ],
              "status": 200,
              "status_text": ""
            }
          },
          "base_uri": "https://localhost:8080/",
          "height": 74
        },
        "id": "GEm_Tj99q2cZ",
        "outputId": "74fff914-53d0-492a-b5f1-bc2c3a1e94ce"
      },
      "id": "GEm_Tj99q2cZ",
      "execution_count": null,
      "outputs": [
        {
          "output_type": "display_data",
          "data": {
            "text/plain": [
              "<IPython.core.display.HTML object>"
            ],
            "text/html": [
              "\n",
              "     <input type=\"file\" id=\"files-d5329456-0a89-4731-a531-e7d288d1517a\" name=\"files[]\" multiple disabled\n",
              "        style=\"border:none\" />\n",
              "     <output id=\"result-d5329456-0a89-4731-a531-e7d288d1517a\">\n",
              "      Upload widget is only available when the cell has been executed in the\n",
              "      current browser session. Please rerun this cell to enable.\n",
              "      </output>\n",
              "      <script src=\"/nbextensions/google.colab/files.js\"></script> "
            ]
          },
          "metadata": {}
        },
        {
          "output_type": "stream",
          "name": "stdout",
          "text": [
            "Saving 2.jpg to 2.jpg\n"
          ]
        }
      ]
    },
    {
      "cell_type": "code",
      "source": [
        "# 9. predict ảnh tự vẽ \n",
        "import cv2\n",
        "img = cv2.imread('9.jpg', cv2.IMREAD_GRAYSCALE)\n",
        "img = cv2.resize(src=img, dsize=(img_width, img_height))\n",
        "plt.imshow(img, cmap='gray')\n",
        "\n",
        "y_pred = model_CNN.predict(img.reshape(1, img_width, img_height, img_channel))\n",
        "print(y_pred)\n",
        "print(np.argmax(y_pred))"
      ],
      "metadata": {
        "colab": {
          "base_uri": "https://localhost:8080/",
          "height": 300
        },
        "id": "bq-t9ObFqHGr",
        "outputId": "1a74daa6-55fa-49fc-8457-c504a14c1bfa"
      },
      "id": "bq-t9ObFqHGr",
      "execution_count": null,
      "outputs": [
        {
          "output_type": "stream",
          "name": "stdout",
          "text": [
            "[[0. 0. 0. 0. 0. 0. 0. 0. 0. 1.]]\n",
            "9\n"
          ]
        },
        {
          "output_type": "display_data",
          "data": {
            "text/plain": [
              "<Figure size 432x288 with 1 Axes>"
            ],
            "image/png": "[encoded data removed]"
          },
          "metadata": {
            "needs_background": "light"
          }
        }
      ]
    },
    {
      "cell_type": "code",
      "source": [
        "# 10. save model\n",
        "model_CNN.save('Mnist_model.h5')"
      ],
      "metadata": {
        "id": "I9lE_6R-zd6b"
      },
      "id": "I9lE_6R-zd6b",
      "execution_count": 29,
      "outputs": []
    }
  ],
  "metadata": {
    "colab": {
      "collapsed_sections": [
        "gc6PAL9qPlCu",
        "BCqPQQzJPhkU",
        "S7rJYnNTPtVd",
        "GFO56ivUPyxF",
        "FQkaC9PvP-Qq"
      ],
      "name": "Mnist_Project.ipynb",
      "provenance": [],
      "include_colab_link": true
    },
    "kernelspec": {
      "display_name": "Python 3 (ipykernel)",
      "language": "python",
      "name": "python3"
    },
    "language_info": {
      "codemirror_mode": {
        "name": "ipython",
        "version": 3
      },
      "file_extension": ".py",
      "mimetype": "text/x-python",
      "name": "python",
      "nbconvert_exporter": "python",
      "pygments_lexer": "ipython3",
      "version": "3.10.1"
    },
    "accelerator": "GPU",
    "gpuClass": "standard"
  },
  "nbformat": 4,
  "nbformat_minor": 5
}